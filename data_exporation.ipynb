{
 "cells": [
  {
   "cell_type": "code",
   "execution_count": 1,
   "metadata": {},
   "outputs": [],
   "source": [
    "import numpy as np\n",
    "import pandas as pd\n",
    "import matplotlib.pyplot as plt\n",
    "import seaborn as sns\n"
   ]
  },
  {
   "cell_type": "code",
   "execution_count": 2,
   "metadata": {},
   "outputs": [],
   "source": [
    "player_info = pd.read_csv(\"players_info.csv\")"
   ]
  },
  {
   "cell_type": "code",
   "execution_count": 10,
   "metadata": {},
   "outputs": [],
   "source": [
    "match_zero_env = pd.read_csv(\"matches/match_0/environment.csv\")\n",
    "match_zero_player_zero_emg = pd.read_csv(\"matches/match_0/player_0/emg.csv\")\n",
    "match_zero_player_zero_skin_temp = pd.read_csv(\"matches/match_0/player_0/facial_skin_temperature.csv\")\n",
    "match_zero_player_zero_gsr = pd.read_csv(\"matches/match_0/player_0/gsr.csv\")\n",
    "match_zero_player_zero_heart_rate = pd.read_csv(\"matches/match_0/player_0/heart_rate.csv\")"
   ]
  },
  {
   "cell_type": "code",
   "execution_count": 14,
   "metadata": {},
   "outputs": [],
   "source": [
    "import json\n",
    "replay_json =json.load(open(\"matches/match_0/replay.json\"))"
   ]
  },
  {
   "cell_type": "code",
   "execution_count": null,
   "metadata": {},
   "outputs": [],
   "source": []
  }
 ],
 "metadata": {
  "kernelspec": {
   "display_name": "base",
   "language": "python",
   "name": "python3"
  },
  "language_info": {
   "codemirror_mode": {
    "name": "ipython",
    "version": 3
   },
   "file_extension": ".py",
   "mimetype": "text/x-python",
   "name": "python",
   "nbconvert_exporter": "python",
   "pygments_lexer": "ipython3",
   "version": "3.10.12"
  }
 },
 "nbformat": 4,
 "nbformat_minor": 2
}
